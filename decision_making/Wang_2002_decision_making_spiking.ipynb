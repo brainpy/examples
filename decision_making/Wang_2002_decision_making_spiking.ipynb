{
 "cells": [
  {
   "cell_type": "markdown",
   "id": "afe4708f",
   "metadata": {},
   "source": [
    "# *(Wang, 2002)* Decision making spiking model\n",
    "\n",
    "[![Colab](https://colab.research.google.com/assets/colab-badge.svg)](https://colab.research.google.com/github/brainpy/examples/blob/main/decision_making/Wang_2002_decision_making_spiking.ipynb)\n",
    "[![Open in Kaggle](https://kaggle.com/static/images/open-in-kaggle.svg)](https://kaggle.com/kernels/welcome?src=https://github.com/brainpy/examples/blob/main/decision_making/Wang_2002_decision_making_spiking.ipynb)"
   ]
  },
  {
   "cell_type": "markdown",
   "id": "83acef7d",
   "metadata": {},
   "source": [
    "Implementation of the paper: *Wang, Xiao-Jing. \"Probabilistic decision making by slow reverberation in cortical circuits.\" Neuron 36.5 (2002): 955-968.*\n",
    "\n",
    "- Author : Chaoming Wang (chao.brain@qq.com)"
   ]
  },
  {
   "cell_type": "markdown",
   "id": "88e26125",
   "metadata": {},
   "source": [
    "Please refer to github example folder:\n",
    "\n",
    "- https://github.com/brainpy/examples/blob/master/decision_making/Wang_2002_decision_making_spiking.py"
   ]
  }
 ],
 "metadata": {
  "jupytext": {
   "encoding": "# -*- coding: utf-8 -*-",
   "formats": "ipynb,py:percent"
  },
  "kernelspec": {
   "display_name": "brainpy",
   "language": "python",
   "name": "brainpy"
  },
  "language_info": {
   "codemirror_mode": {
    "name": "ipython",
    "version": 3
   },
   "file_extension": ".py",
   "mimetype": "text/x-python",
   "name": "python",
   "nbconvert_exporter": "python",
   "pygments_lexer": "ipython3",
   "version": "3.9.12"
  },
  "latex_envs": {
   "LaTeX_envs_menu_present": true,
   "autoclose": false,
   "autocomplete": true,
   "bibliofile": "biblio.bib",
   "cite_by": "apalike",
   "current_citInitial": 1,
   "eqLabelWithNumbers": true,
   "eqNumInitial": 1,
   "hotkeys": {
    "equation": "Ctrl-E",
    "itemize": "Ctrl-I"
   },
   "labels_anchors": false,
   "latex_user_defs": false,
   "report_style_numbering": false,
   "user_envs_cfg": false
  },
  "toc": {
   "base_numbering": 1,
   "nav_menu": {},
   "number_sections": true,
   "sideBar": true,
   "skip_h1_title": false,
   "title_cell": "Table of Contents",
   "title_sidebar": "Contents",
   "toc_cell": false,
   "toc_position": {},
   "toc_section_display": true,
   "toc_window_display": true
  }
 },
 "nbformat": 4,
 "nbformat_minor": 5
}
