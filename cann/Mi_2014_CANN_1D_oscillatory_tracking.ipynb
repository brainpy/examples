{
 "cells": [
  {
   "cell_type": "markdown",
   "id": "647060a3",
   "metadata": {},
   "source": [
    "# CANN 1D Oscillatory Tracking"
   ]
  },
  {
   "cell_type": "markdown",
   "id": "6d135f04",
   "metadata": {},
   "source": [
    "Implementation of the paper:\n",
    "\n",
    "- Si Wu, Kosuke Hamaguchi, and Shun-ichi Amari. \"Dynamics and computation of continuous attractors.\" Neural computation 20.4 (2008): 994-1025.\n",
    "- Mi, Y., Fung, C. C., Wong, M. K. Y., & Wu, S. (2014). Spike frequency adaptation implements anticipative tracking in continuous attractor neural networks. Advances in neural information processing systems, 1(January), 505."
   ]
  },
  {
   "cell_type": "code",
   "execution_count": 1,
   "id": "51852ed7",
   "metadata": {
    "pycharm": {
     "is_executing": true
    }
   },
   "outputs": [],
   "source": [
    "import brainpy as bp\n",
    "import brainpy.math as bm\n",
    "\n",
    "bm.set_platform('cpu')"
   ]
  },
  {
   "cell_type": "code",
   "execution_count": 2,
   "id": "433fe4d4",
   "metadata": {},
   "outputs": [],
   "source": [
    "class CANN1D(bp.NeuGroup):\n",
    "  def __init__(self, num, tau=1., tau_v=50., k=1., a=0.3, A=0.2, J0=1.,\n",
    "               z_min=-bm.pi, z_max=bm.pi, m=0.3):\n",
    "    super(CANN1D, self).__init__(size=num)\n",
    "\n",
    "    # parameters\n",
    "    self.tau = tau  # The synaptic time constant\n",
    "    self.tau_v = tau_v\n",
    "    self.k = k  # Degree of the rescaled inhibition\n",
    "    self.a = a  # Half-width of the range of excitatory connections\n",
    "    self.A = A  # Magnitude of the external input\n",
    "    self.J0 = J0  # maximum connection value\n",
    "    self.m = m\n",
    "\n",
    "    # feature space\n",
    "    self.z_min = z_min\n",
    "    self.z_max = z_max\n",
    "    self.z_range = z_max - z_min\n",
    "    self.x = bm.linspace(z_min, z_max, num)  # The encoded feature values\n",
    "    self.rho = num / self.z_range  # The neural density\n",
    "    self.dx = self.z_range / num  # The stimulus density\n",
    "\n",
    "    # The connection matrix\n",
    "    self.conn_mat = self.make_conn()\n",
    "\n",
    "    # variables\n",
    "    self.r = bm.Variable(bm.zeros(num))\n",
    "    self.u = bm.Variable(bm.zeros(num))\n",
    "    self.v = bm.Variable(bm.zeros(num))\n",
    "    self.input = bm.Variable(bm.zeros(num))\n",
    "\n",
    "  def dist(self, d):\n",
    "    d = bm.remainder(d, self.z_range)\n",
    "    d = bm.where(d > 0.5 * self.z_range, d - self.z_range, d)\n",
    "    return d\n",
    "\n",
    "  def make_conn(self):\n",
    "    x_left = bm.reshape(self.x, (-1, 1))\n",
    "    x_right = bm.repeat(self.x.reshape((1, -1)), len(self.x), axis=0)\n",
    "    d = self.dist(x_left - x_right)\n",
    "    conn = self.J0 * bm.exp(-0.5 * bm.square(d / self.a)) / (bm.sqrt(2 * bm.pi) * self.a)\n",
    "    return conn\n",
    "\n",
    "  def get_stimulus_by_pos(self, pos):\n",
    "    return self.A * bm.exp(-0.25 * bm.square(self.dist(self.x - pos) / self.a))\n",
    "\n",
    "  def update(self, tdi):\n",
    "    r1 = bm.square(self.u)\n",
    "    r2 = 1.0 + self.k * bm.sum(r1)\n",
    "    self.r.value = r1 / r2\n",
    "    Irec = bm.dot(self.conn_mat, self.r)\n",
    "    self.u.value = self.u + (-self.u + Irec + self.input - self.v) / self.tau * tdi.dt\n",
    "    self.v.value = self.v + (-self.v + self.m * self.u) / self.tau_v * tdi.dt\n",
    "    self.input[:] = 0."
   ]
  },
  {
   "cell_type": "code",
   "execution_count": 3,
   "id": "1c04226c",
   "metadata": {},
   "outputs": [],
   "source": [
    "cann = CANN1D(num=512)"
   ]
  },
  {
   "cell_type": "code",
   "execution_count": 4,
   "id": "6bc3315e",
   "metadata": {
    "scrolled": false
   },
   "outputs": [
    {
     "data": {
      "application/vnd.jupyter.widget-view+json": {
       "model_id": "76f9d82a2cd447cc9541cd771fee2086",
       "version_major": 2,
       "version_minor": 0
      },
      "text/plain": [
       "  0%|          | 0/26000 [00:00<?, ?it/s]"
      ]
     },
     "metadata": {},
     "output_type": "display_data"
    }
   ],
   "source": [
    "dur1, dur2, dur3 = 100., 2000., 500.\n",
    "num1 = int(dur1 / bm.get_dt())\n",
    "num2 = int(dur2 / bm.get_dt())\n",
    "num3 = int(dur3 / bm.get_dt())\n",
    "position = bm.zeros(num1 + num2 + num3)\n",
    "final_pos = cann.a / cann.tau_v * 0.6 * dur2\n",
    "position[num1: num1 + num2] = bm.linspace(0., final_pos, num2)\n",
    "position[num1 + num2:] = final_pos\n",
    "position = position.reshape((-1, 1))\n",
    "Iext = cann.get_stimulus_by_pos(position)\n",
    "\n",
    "runner = bp.DSRunner(cann,\n",
    "                     inputs=('input', Iext, 'iter'),\n",
    "                     monitors=['u', 'v'])\n",
    "runner.run(dur1 + dur2 + dur3)\n",
    "_ = bp.visualize.animate_1D(\n",
    "  dynamical_vars=[\n",
    "    {'ys': runner.mon.u, 'xs': cann.x, 'legend': 'u'},\n",
    "    {'ys': runner.mon.v, 'xs': cann.x, 'legend': 'v'},\n",
    "    {'ys': Iext, 'xs': cann.x, 'legend': 'Iext'}\n",
    "  ],\n",
    "  frame_step=30,\n",
    "  frame_delay=5,\n",
    "  show=True\n",
    ")"
   ]
  },
  {
   "cell_type": "markdown",
   "id": "4b9b8501",
   "metadata": {},
   "source": [
    "![](../images/cann_1d_oscillatory_tracking.gif)"
   ]
  }
 ],
 "metadata": {
  "jupytext": {
   "cell_metadata_filter": "-all",
   "formats": "ipynb,auto:percent",
   "notebook_metadata_filter": "-all"
  },
  "kernelspec": {
   "display_name": "brainpy",
   "language": "python",
   "name": "brainpy"
  },
  "language_info": {
   "codemirror_mode": {
    "name": "ipython",
    "version": 3
   },
   "file_extension": ".py",
   "mimetype": "text/x-python",
   "name": "python",
   "nbconvert_exporter": "python",
   "pygments_lexer": "ipython3",
   "version": "3.9.12"
  },
  "latex_envs": {
   "LaTeX_envs_menu_present": true,
   "autoclose": false,
   "autocomplete": true,
   "bibliofile": "biblio.bib",
   "cite_by": "apalike",
   "current_citInitial": 1,
   "eqLabelWithNumbers": true,
   "eqNumInitial": 1,
   "hotkeys": {
    "equation": "Ctrl-E",
    "itemize": "Ctrl-I"
   },
   "labels_anchors": false,
   "latex_user_defs": false,
   "report_style_numbering": false,
   "user_envs_cfg": false
  },
  "toc": {
   "base_numbering": 1,
   "nav_menu": {},
   "number_sections": true,
   "sideBar": true,
   "skip_h1_title": false,
   "title_cell": "Table of Contents",
   "title_sidebar": "Contents",
   "toc_cell": false,
   "toc_position": {},
   "toc_section_display": true,
   "toc_window_display": false
  }
 },
 "nbformat": 4,
 "nbformat_minor": 5
}
