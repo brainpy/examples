{
 "cells": [
  {
   "cell_type": "markdown",
   "id": "787df035",
   "metadata": {
    "lines_to_next_cell": 0
   },
   "source": [
    "# [2D] Decision Making Model with ``SlowPointFinder``"
   ]
  },
  {
   "cell_type": "code",
   "execution_count": 1,
   "id": "12436e45",
   "metadata": {},
   "outputs": [],
   "source": [
    "import brainpy as bp\n",
    "import brainpy.math as bm\n",
    "\n",
    "bp.math.enable_x64()\n",
    "# bp.math.set_platform('cpu')"
   ]
  },
  {
   "cell_type": "code",
   "execution_count": 2,
   "id": "9ff6cefe",
   "metadata": {},
   "outputs": [],
   "source": [
    "# parameters\n",
    "gamma = 0.641  # Saturation factor for gating variable\n",
    "tau = 0.06  # Synaptic time constant [sec]\n",
    "a = 270.\n",
    "b = 108.\n",
    "d = 0.154"
   ]
  },
  {
   "cell_type": "code",
   "execution_count": 3,
   "id": "4d87df9d",
   "metadata": {},
   "outputs": [],
   "source": [
    "JE = 0.3725  # self-coupling strength [nA]\n",
    "JI = -0.1137  # cross-coupling strength [nA]\n",
    "JAext = 0.00117  # Stimulus input strength [nA]"
   ]
  },
  {
   "cell_type": "code",
   "execution_count": 4,
   "id": "105c6436",
   "metadata": {},
   "outputs": [],
   "source": [
    "mu = 20.  # Stimulus firing rate [spikes/sec]\n",
    "coh = 0.5  # Stimulus coherence [%]\n",
    "Ib1 = 0.3297\n",
    "Ib2 = 0.3297"
   ]
  },
  {
   "cell_type": "code",
   "execution_count": 5,
   "id": "dbae0bd7",
   "metadata": {},
   "outputs": [],
   "source": [
    "@bp.odeint\n",
    "def int_s1(s1, t, s2, coh=0.5, mu=20.):\n",
    "  I1 = JE * s1 + JI * s2 + Ib1 + JAext * mu * (1. + coh)\n",
    "  r1 = (a * I1 - b) / (1. - bm.exp(-d * (a * I1 - b)))\n",
    "  return - s1 / tau + (1. - s1) * gamma * r1"
   ]
  },
  {
   "cell_type": "code",
   "execution_count": 6,
   "id": "02cf4d0c",
   "metadata": {},
   "outputs": [],
   "source": [
    "@bp.odeint\n",
    "def int_s2(s2, t, s1, coh=0.5, mu=20.):\n",
    "  I2 = JE * s2 + JI * s1 + Ib2 + JAext * mu * (1. - coh)\n",
    "  r2 = (a * I2 - b) / (1. - bm.exp(-d * (a * I2 - b)))\n",
    "  return - s2 / tau + (1. - s2) * gamma * r2"
   ]
  },
  {
   "cell_type": "code",
   "execution_count": 7,
   "id": "e8b04c87",
   "metadata": {},
   "outputs": [],
   "source": [
    "def cell(s):\n",
    "  ds1 = int_s1.f(s[0], 0., s[1])\n",
    "  ds2 = int_s2.f(s[1], 0., s[0])\n",
    "  return bm.asarray([ds1, ds2])"
   ]
  },
  {
   "cell_type": "code",
   "execution_count": 8,
   "id": "c501e54a",
   "metadata": {},
   "outputs": [
    {
     "name": "stderr",
     "output_type": "stream",
     "text": [
      "WARNING:jax._src.lib.xla_bridge:No GPU/TPU found, falling back to CPU. (Set TF_CPP_MIN_LOG_LEVEL=0 and rerun for more info.)\n"
     ]
    },
    {
     "name": "stdout",
     "output_type": "stream",
     "text": [
      "Optimizing with Adam(lr=ExponentialDecay(0.01, decay_steps=1, decay_rate=0.9999), beta1=0.9, beta2=0.999, eps=1e-08) to find fixed points:\n",
      "    Batches 1-200 in 0.31 sec, Training loss 0.0543390532\n",
      "    Batches 201-400 in 0.25 sec, Training loss 0.0052048551\n",
      "    Batches 401-600 in 0.25 sec, Training loss 0.0008121170\n",
      "    Batches 601-800 in 0.23 sec, Training loss 0.0001853616\n",
      "    Batches 801-1000 in 0.25 sec, Training loss 0.0000455684\n",
      "    Batches 1001-1200 in 0.24 sec, Training loss 0.0000116649\n",
      "    Batches 1201-1400 in 0.23 sec, Training loss 0.0000030255\n",
      "    Stop optimization as mean training loss 0.0000030255 is below tolerance 0.0000100000.\n",
      "Excluding fixed points with squared speed above tolerance 1e-05:\n",
      "    Kept 969/1000 fixed points with tolerance under 1e-05.\n",
      "Excluding non-unique fixed points:\n",
      "    Kept 3/969 unique fixed points with uniqueness tolerance 0.025.\n",
      "fixed_points:  [[0.28276323 0.40635171]\n",
      " [0.01394651 0.65738904]\n",
      " [0.70045189 0.00486431]]\n",
      "losses: [7.74275831e-32 1.14704280e-30 2.16451334e-30]\n"
     ]
    }
   ],
   "source": [
    "finder = bp.analysis.SlowPointFinder(f_cell=cell, f_type='continuous')\n",
    "finder.find_fps_with_gd_method(\n",
    "  candidates=bm.random.random((1000, 2)),\n",
    "  tolerance=1e-5, num_batch=200,\n",
    "  optimizer=bp.optim.Adam(lr=bp.optim.ExponentialDecay(0.01, 1, 0.9999)),\n",
    ")\n",
    "finder.filter_loss(1e-5)\n",
    "finder.keep_unique()\n",
    "\n",
    "print('fixed_points: ', finder.fixed_points)\n",
    "print('losses:', finder.losses)"
   ]
  },
  {
   "cell_type": "code",
   "execution_count": 9,
   "id": "d2b88f6d",
   "metadata": {},
   "outputs": [
    {
     "data": {
      "text/plain": "<Figure size 216x432 with 3 Axes>",
      "image/png": "[encoded data removed]"
     },
     "metadata": {
      "needs_background": "light"
     },
     "output_type": "display_data"
    }
   ],
   "source": [
    "jac = finder.compute_jacobians(finder.fixed_points, plot=True, num_col=1)"
   ]
  }
 ],
 "metadata": {
  "jupytext": {
   "cell_metadata_filter": "-all",
   "encoding": "# -*- coding: utf-8 -*-",
   "formats": "ipynb,auto:percent",
   "notebook_metadata_filter": "-all"
  },
  "kernelspec": {
   "display_name": "brainpy",
   "language": "python",
   "name": "brainpy"
  },
  "language_info": {
   "codemirror_mode": {
    "name": "ipython",
    "version": 3
   },
   "file_extension": ".py",
   "mimetype": "text/x-python",
   "name": "python",
   "nbconvert_exporter": "python",
   "pygments_lexer": "ipython3",
   "version": "3.8.11"
  },
  "latex_envs": {
   "LaTeX_envs_menu_present": true,
   "autoclose": false,
   "autocomplete": true,
   "bibliofile": "biblio.bib",
   "cite_by": "apalike",
   "current_citInitial": 1,
   "eqLabelWithNumbers": true,
   "eqNumInitial": 1,
   "hotkeys": {
    "equation": "Ctrl-E",
    "itemize": "Ctrl-I"
   },
   "labels_anchors": false,
   "latex_user_defs": false,
   "report_style_numbering": false,
   "user_envs_cfg": false
  },
  "toc": {
   "base_numbering": 1,
   "nav_menu": {},
   "number_sections": true,
   "sideBar": true,
   "skip_h1_title": false,
   "title_cell": "Table of Contents",
   "title_sidebar": "Contents",
   "toc_cell": false,
   "toc_position": {},
   "toc_section_display": true,
   "toc_window_display": false
  }
 },
 "nbformat": 4,
 "nbformat_minor": 5
}
