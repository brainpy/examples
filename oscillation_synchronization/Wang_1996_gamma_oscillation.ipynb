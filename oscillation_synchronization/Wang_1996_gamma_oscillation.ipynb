{
 "cells": [
  {
   "cell_type": "markdown",
   "id": "333ff534",
   "metadata": {
    "pycharm": {
     "name": "#%% md\n"
    }
   },
   "source": [
    "# _(Wang & Buzsáki, 1996)_ Gamma Oscillation"
   ]
  },
  {
   "cell_type": "markdown",
   "id": "ddf7a551",
   "metadata": {
    "pycharm": {
     "name": "#%% md\n"
    }
   },
   "source": [
    "Here we show the implementation of gamma oscillation proposed by Xiao-Jing Wang and György Buzsáki (1996). They demonstrated that the GABA$_A$ synaptic transmission provides a suitable mechanism for synchronized gamma oscillations in a network of fast-spiking interneurons. "
   ]
  },
  {
   "cell_type": "markdown",
   "id": "527b272f",
   "metadata": {
    "pycharm": {
     "name": "#%% md\n"
    }
   },
   "source": [
    "Let's first import brainpy and set profiles."
   ]
  },
  {
   "cell_type": "code",
   "execution_count": 1,
   "id": "9d2c247c",
   "metadata": {
    "pycharm": {
     "name": "#%%\n"
    }
   },
   "outputs": [],
   "source": [
    "import brainpy as bp\n",
    "import brainpy.math as bm\n",
    "\n",
    "bp.math.set_dt(0.05)"
   ]
  },
  {
   "cell_type": "markdown",
   "id": "adc251f7",
   "metadata": {
    "pycharm": {
     "name": "#%% md\n"
    }
   },
   "source": [
    "The network is constructed with Hodgkin–Huxley (HH) type neurons and GABA$_A$ synapses. "
   ]
  },
  {
   "cell_type": "markdown",
   "id": "3c3c361d",
   "metadata": {
    "pycharm": {
     "name": "#%% md\n"
    }
   },
   "source": [
    "The dynamics of the HH type neurons is given by:\n",
    "\n",
    "$$ C \\frac {dV} {dt} = -(I_{Na} + I_{K} + I_L) + I(t) $$\n",
    "\n",
    "where $I(t)$ is the injected current, the leak current $ I_L = g_L (V - E_L) $, and the transient sodium current \n",
    "\n",
    "$$ I_{Na} = g_{Na} m_{\\infty}^3 h (V - E_{Na}) $$\n",
    "\n",
    "where the activation variable $m$ is assumed fast and substituted by its steady-state function \n",
    "$m_{\\infty} = \\alpha_m / (\\alpha_m + \\beta_m)$.\n",
    "And the inactivation variable $h$ obeys a first=order kinetics:\n",
    "$$ \\frac {dh} {dt} = \\phi (\\alpha_h (1-h) - \\beta_h h)$$\n",
    "\n",
    "$$ I_K = g_K n^4 (V - E_K) $$\n",
    "\n",
    "where the activation variable $n$ also obeys a first=order kinetics:\n",
    "$$ \\frac {dn} {dt} = \\phi (\\alpha_n (1-n) - \\beta_n n)$$"
   ]
  },
  {
   "cell_type": "code",
   "execution_count": 2,
   "id": "ce513907",
   "metadata": {
    "pycharm": {
     "name": "#%%\n"
    }
   },
   "outputs": [],
   "source": [
    "class HH(bp.NeuGroup):\n",
    "  def __init__(self, size, ENa=55., EK=-90., EL=-65, C=1.0, gNa=35.,\n",
    "               gK=9., gL=0.1, V_th=20., phi=5.0, method='exp_auto'):\n",
    "    super(HH, self).__init__(size=size)\n",
    "\n",
    "    # parameters\n",
    "    self.ENa = ENa\n",
    "    self.EK = EK\n",
    "    self.EL = EL\n",
    "    self.C = C\n",
    "    self.gNa = gNa\n",
    "    self.gK = gK\n",
    "    self.gL = gL\n",
    "    self.V_th = V_th\n",
    "    self.phi = phi\n",
    "\n",
    "    # variables\n",
    "    self.V = bm.Variable(bm.ones(size) * -65.)\n",
    "    self.h = bm.Variable(bm.ones(size) * 0.6)\n",
    "    self.n = bm.Variable(bm.ones(size) * 0.32)\n",
    "    self.spike = bm.Variable(bm.zeros(size, dtype=bool))\n",
    "    self.input = bm.Variable(bm.zeros(size))\n",
    "    self.t_last_spike = bm.Variable(bm.ones(size) * -1e7)\n",
    "\n",
    "    # integral\n",
    "    self.integral = bp.odeint(bp.JointEq([self.dV, self.dh, self.dn]), method=method)\n",
    "\n",
    "  def dh(self, h, t, V):\n",
    "    alpha = 0.07 * bm.exp(-(V + 58) / 20)\n",
    "    beta = 1 / (bm.exp(-0.1 * (V + 28)) + 1)\n",
    "    dhdt = alpha * (1 - h) - beta * h\n",
    "    return self.phi * dhdt\n",
    "\n",
    "  def dn(self, n, t, V):\n",
    "    alpha = -0.01 * (V + 34) / (bm.exp(-0.1 * (V + 34)) - 1)\n",
    "    beta = 0.125 * bm.exp(-(V + 44) / 80)\n",
    "    dndt = alpha * (1 - n) - beta * n\n",
    "    return self.phi * dndt\n",
    "\n",
    "  def dV(self, V, t, h, n, Iext):\n",
    "    m_alpha = -0.1 * (V + 35) / (bm.exp(-0.1 * (V + 35)) - 1)\n",
    "    m_beta = 4 * bm.exp(-(V + 60) / 18)\n",
    "    m = m_alpha / (m_alpha + m_beta)\n",
    "    INa = self.gNa * m ** 3 * h * (V - self.ENa)\n",
    "    IK = self.gK * n ** 4 * (V - self.EK)\n",
    "    IL = self.gL * (V - self.EL)\n",
    "    dVdt = (- INa - IK - IL + Iext) / self.C\n",
    "\n",
    "    return dVdt\n",
    "\n",
    "  def update(self, tdi):\n",
    "    V, h, n = self.integral(self.V, self.h, self.n, tdi.t, self.input, tdi.dt)\n",
    "    self.spike.value = bm.logical_and(self.V < self.V_th, V >= self.V_th)\n",
    "    self.t_last_spike.value = bm.where(self.spike, tdi.t, self.t_last_spike)\n",
    "    self.V.value = V\n",
    "    self.h.value = h\n",
    "    self.n.value = n\n",
    "    self.input[:] = 0."
   ]
  },
  {
   "cell_type": "markdown",
   "id": "35fb5f10",
   "metadata": {
    "pycharm": {
     "name": "#%% md\n"
    }
   },
   "source": [
    "Let's run a simulation of a network with 100 neurons with constant inputs (1 $\\mu$A/cm$^2$)."
   ]
  },
  {
   "cell_type": "code",
   "execution_count": 3,
   "id": "01abdb0e",
   "metadata": {
    "pycharm": {
     "name": "#%%\n"
    }
   },
   "outputs": [
    {
     "name": "stderr",
     "output_type": "stream",
     "text": [
      "WARNING:jax._src.lib.xla_bridge:No GPU/TPU found, falling back to CPU. (Set TF_CPP_MIN_LOG_LEVEL=0 and rerun for more info.)\n"
     ]
    },
    {
     "data": {
      "application/vnd.jupyter.widget-view+json": {
       "model_id": "5f50381fbe594519867b42b6f4e2f862",
       "version_major": 2,
       "version_minor": 0
      },
      "text/plain": [
       "  0%|          | 0/10000 [00:00<?, ?it/s]"
      ]
     },
     "metadata": {},
     "output_type": "display_data"
    }
   ],
   "source": [
    "num = 100\n",
    "neu = HH(num)\n",
    "neu.V[:] = -70. + bm.random.normal(size=num) * 20\n",
    "\n",
    "syn = bp.synapses.GABAa(pre=neu, post=neu, conn=bp.connect.All2All(include_self=False))\n",
    "syn.g_max = 0.1 / num\n",
    "\n",
    "net = bp.Network(neu=neu, syn=syn)\n",
    "runner = bp.DSRunner(net, monitors=['neu.spike', 'neu.V'], inputs=['neu.input', 1.])\n",
    "runner.run(duration=500.)"
   ]
  },
  {
   "cell_type": "code",
   "execution_count": 4,
   "id": "ce41e1b2",
   "metadata": {
    "pycharm": {
     "name": "#%%\n"
    }
   },
   "outputs": [
    {
     "data": {
      "image/png": "[encoded data removed]",
      "text/plain": [
       "<Figure size 576x432 with 2 Axes>"
      ]
     },
     "metadata": {
      "needs_background": "light"
     },
     "output_type": "display_data"
    }
   ],
   "source": [
    "fig, gs = bp.visualize.get_figure(2, 1, 3, 8)\n",
    "\n",
    "fig.add_subplot(gs[0, 0])\n",
    "bp.visualize.line_plot(runner.mon.ts, runner.mon['neu.V'], ylabel='Membrane potential (N0)')\n",
    "\n",
    "fig.add_subplot(gs[1, 0])\n",
    "bp.visualize.raster_plot(runner.mon.ts, runner.mon['neu.spike'], show=True)"
   ]
  },
  {
   "cell_type": "markdown",
   "id": "e32b8643",
   "metadata": {
    "pycharm": {
     "name": "#%% md\n"
    }
   },
   "source": [
    "We can see the result of this simulation that cells starting at random and asynchronous initial conditions quickly become synchronized and their spiking times are perfectly in-phase within 5-6 oscillatory cycles."
   ]
  },
  {
   "cell_type": "markdown",
   "id": "8073af28",
   "metadata": {
    "pycharm": {
     "name": "#%% md\n"
    }
   },
   "source": [
    "**Reference**:\n",
    "\n",
    "- Wang, Xiao-Jing, and György Buzsáki. “Gamma oscillation by synaptic inhibition in a hippocampal interneuronal network model.” Journal of neuroscience 16.20 (1996): 6402-6413."
   ]
  }
 ],
 "metadata": {
  "jupytext": {
   "cell_metadata_filter": "-all",
   "encoding": "# -*- coding: utf-8 -*-",
   "formats": "auto:percent,ipynb",
   "notebook_metadata_filter": "-all"
  },
  "kernelspec": {
   "display_name": "brainpy",
   "language": "python",
   "name": "brainpy"
  },
  "language_info": {
   "codemirror_mode": {
    "name": "ipython",
    "version": 3
   },
   "file_extension": ".py",
   "mimetype": "text/x-python",
   "name": "python",
   "nbconvert_exporter": "python",
   "pygments_lexer": "ipython3",
   "version": "3.9.12"
  },
  "latex_envs": {
   "LaTeX_envs_menu_present": true,
   "autoclose": false,
   "autocomplete": true,
   "bibliofile": "biblio.bib",
   "cite_by": "apalike",
   "current_citInitial": 1,
   "eqLabelWithNumbers": true,
   "eqNumInitial": 1,
   "hotkeys": {
    "equation": "Ctrl-E",
    "itemize": "Ctrl-I"
   },
   "labels_anchors": false,
   "latex_user_defs": false,
   "report_style_numbering": false,
   "user_envs_cfg": false
  },
  "toc": {
   "base_numbering": 1,
   "nav_menu": {},
   "number_sections": true,
   "sideBar": true,
   "skip_h1_title": false,
   "title_cell": "Table of Contents",
   "title_sidebar": "Contents",
   "toc_cell": false,
   "toc_position": {},
   "toc_section_display": true,
   "toc_window_display": false
  }
 },
 "nbformat": 4,
 "nbformat_minor": 5
}
