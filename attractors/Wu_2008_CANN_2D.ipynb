{
 "cells": [
  {
   "cell_type": "markdown",
   "id": "1e15b673",
   "metadata": {},
   "source": [
    "# _(Si Wu, 2008)_: Continuous-attractor Neural Network 2D\n",
    "\n",
    "[![Colab](https://colab.research.google.com/assets/colab-badge.svg)](https://colab.research.google.com/github/brainpy/examples/blob/main/attractors/Wu_2008_CANN_2D.ipynb)\n",
    "[![Open in Kaggle](https://kaggle.com/static/images/open-in-kaggle.svg)](https://kaggle.com/kernels/welcome?src=https://github.com/brainpy/examples/blob/main/attractors/Wu_2008_CANN_2D.ipynb)"
   ]
  },
  {
   "cell_type": "markdown",
   "id": "b830b3d0",
   "metadata": {},
   "source": [
    "Implementation of the paper:\n",
    "- Si Wu, Kosuke Hamaguchi, and Shun-ichi Amari. \"Dynamics and computation\n",
    "  of continuous attractors.\" Neural computation 20.4 (2008): 994-1025."
   ]
  },
  {
   "cell_type": "markdown",
   "id": "7e25e944",
   "metadata": {},
   "source": [
    "The mathematical equation of the Continuous-Attractor Neural Network (CANN) is given by:\n",
    "\n",
    "$$\\tau \\frac{du(x,t)}{dt} = -u(x,t) + \\rho \\int dx' J(x,x') r(x',t)+I_{ext}$$\n",
    "\n",
    "$$r(x,t) = \\frac{u(x,t)^2}{1 + k \\rho \\int dx' u(x',t)^2}$$\n",
    "\n",
    "$$J(x,x') = \\frac{1}{\\sqrt{2\\pi}a}\\exp(-\\frac{|x-x'|^2}{2a^2})$$\n",
    "\n",
    "$$I_{ext} = A\\exp\\left[-\\frac{|x-z(t)|^2}{4a^2}\\right]$$"
   ]
  },
  {
   "cell_type": "markdown",
   "id": "d1c00903",
   "metadata": {},
   "source": [
    "The model solving is usig Fast Fourier transform. It can run on CPU, GPU, TPU devices."
   ]
  },
  {
   "cell_type": "code",
   "execution_count": 1,
   "id": "534aa471",
   "metadata": {
    "ExecuteTime": {
     "end_time": "2023-07-22T04:08:53.382192900Z",
     "start_time": "2023-07-22T04:08:52.893570Z"
    }
   },
   "outputs": [],
   "source": [
    "import matplotlib.pyplot as plt\n",
    "import jax"
   ]
  },
  {
   "cell_type": "code",
   "execution_count": 2,
   "id": "56fbab32",
   "metadata": {
    "ExecuteTime": {
     "end_time": "2023-07-22T04:08:53.778820800Z",
     "start_time": "2023-07-22T04:08:53.386192600Z"
    }
   },
   "outputs": [],
   "source": [
    "import brainpy as bp\n",
    "import brainpy.math as bm"
   ]
  },
  {
   "cell_type": "code",
   "execution_count": 3,
   "metadata": {
    "ExecuteTime": {
     "end_time": "2023-07-22T04:08:53.794940300Z",
     "start_time": "2023-07-22T04:08:53.778820800Z"
    },
    "collapsed": false
   },
   "outputs": [
    {
     "data": {
      "text/plain": [
       "'2.4.3'"
      ]
     },
     "execution_count": 3,
     "metadata": {},
     "output_type": "execute_result"
    }
   ],
   "source": [
    "bp.__version__"
   ]
  },
  {
   "cell_type": "code",
   "execution_count": 3,
   "id": "a832de00",
   "metadata": {},
   "outputs": [],
   "source": [
    "class CANN2D(bp.dyn.NeuDyn):\n",
    "  def __init__(self, length, tau=1., k=8.1, a=0.5, A=10., J0=4.,\n",
    "               z_min=-bm.pi, z_max=bm.pi, name=None):\n",
    "    super(CANN2D, self).__init__(size=(length, length), name=name)\n",
    "\n",
    "    # parameters\n",
    "    self.length = length\n",
    "    self.tau = tau  # The synaptic time constant\n",
    "    self.k = k  # Degree of the rescaled inhibition\n",
    "    self.a = a  # Half-width of the range of excitatory connections\n",
    "    self.A = A  # Magnitude of the external input\n",
    "    self.J0 = J0  # maximum connection value\n",
    "\n",
    "    # feature space\n",
    "    self.z_min = z_min\n",
    "    self.z_max = z_max\n",
    "    self.z_range = z_max - z_min\n",
    "    self.x = bm.linspace(z_min, z_max, length)  # The encoded feature values\n",
    "    self.rho = length / self.z_range  # The neural density\n",
    "    self.dx = self.z_range / length  # The stimulus density\n",
    "\n",
    "    # The connections\n",
    "    self.conn_mat = self.make_conn()\n",
    "\n",
    "    # variables\n",
    "    self.r = bm.Variable(bm.zeros((length, length)))\n",
    "    self.u = bm.Variable(bm.zeros((length, length)))\n",
    "    self.input = bm.Variable(bm.zeros((length, length)))\n",
    "\n",
    "  def show_conn(self):\n",
    "    plt.imshow(bm.as_numpy(self.conn_mat))\n",
    "    plt.colorbar()\n",
    "    plt.show()\n",
    "\n",
    "  def dist(self, d):\n",
    "    v_size = bm.asarray([self.z_range, self.z_range])\n",
    "    return bm.where(d > v_size / 2, v_size - d, d)\n",
    "\n",
    "  def make_conn(self):\n",
    "    x1, x2 = bm.meshgrid(self.x, self.x)\n",
    "    value = bm.stack([x1.flatten(), x2.flatten()]).T\n",
    "\n",
    "    @jax.vmap\n",
    "    def get_J(v):\n",
    "      d = self.dist(bm.abs(v - value))\n",
    "      d = bm.linalg.norm(d, axis=1)\n",
    "      # d = d.reshape((self.length, self.length))\n",
    "      Jxx = self.J0 * bm.exp(-0.5 * bm.square(d / self.a)) / (bm.sqrt(2 * bm.pi) * self.a)\n",
    "      return Jxx\n",
    "\n",
    "    return get_J(value)\n",
    "\n",
    "  def get_stimulus_by_pos(self, pos):\n",
    "    assert bm.size(pos) == 2\n",
    "    x1, x2 = bm.meshgrid(self.x, self.x)\n",
    "    value = bm.stack([x1.flatten(), x2.flatten()]).T\n",
    "    d = self.dist(bm.abs(bm.asarray(pos) - value))\n",
    "    d = bm.linalg.norm(d, axis=1)\n",
    "    d = d.reshape((self.length, self.length))\n",
    "    return self.A * bm.exp(-0.25 * bm.square(d / self.a))\n",
    "\n",
    "  def update(self):\n",
    "    r1 = bm.square(self.u)\n",
    "    r2 = 1.0 + self.k * bm.sum(r1)\n",
    "    self.r.value = r1 / r2\n",
    "    interaction = (self.r.flatten() @ self.conn_mat).reshape((self.length, self.length))\n",
    "    self.u.value = self.u + (-self.u + self.input + interaction) / self.tau * bp.share['dt']\n",
    "    self.input[:] = 0."
   ]
  },
  {
   "cell_type": "code",
   "execution_count": 4,
   "id": "9691603e",
   "metadata": {},
   "outputs": [
    {
     "name": "stderr",
     "output_type": "stream",
     "text": [
      "WARNING:absl:No GPU/TPU found, falling back to CPU. (Set TF_CPP_MIN_LOG_LEVEL=0 and rerun for more info.)\n"
     ]
    }
   ],
   "source": [
    "cann = CANN2D(length=100, k=0.1)"
   ]
  },
  {
   "cell_type": "code",
   "execution_count": 5,
   "id": "ce244e9f",
   "metadata": {},
   "outputs": [
    {
     "data": {
      "image/png": "[encoded data removed]",
      "text/plain": [
       "<Figure size 432x288 with 2 Axes>"
      ]
     },
     "metadata": {
      "needs_background": "light"
     },
     "output_type": "display_data"
    }
   ],
   "source": [
    "cann.show_conn()"
   ]
  },
  {
   "cell_type": "code",
   "execution_count": 6,
   "id": "bad680fd",
   "metadata": {},
   "outputs": [
    {
     "data": {
      "application/vnd.jupyter.widget-view+json": {
       "model_id": "3898ffedc75c4d5987bbaef9dd7d522d",
       "version_major": 2,
       "version_minor": 0
      },
      "text/plain": [
       "  0%|          | 0/300 [00:00<?, ?it/s]"
      ]
     },
     "metadata": {},
     "output_type": "display_data"
    }
   ],
   "source": [
    "# encoding\n",
    "Iext, length = bp.inputs.section_input(\n",
    "    values=[cann.get_stimulus_by_pos([0., 0.]), 0.],\n",
    "    durations=[10., 20.], \n",
    "    return_length=True\n",
    ")\n",
    "runner = bp.DSRunner(cann,\n",
    "                     inputs=['input', Iext, 'iter'],\n",
    "                     monitors=['r'])\n",
    "runner.run(length)"
   ]
  },
  {
   "cell_type": "code",
   "execution_count": 7,
   "id": "bf020d74",
   "metadata": {
    "lines_to_next_cell": 2
   },
   "outputs": [],
   "source": [
    "bp.visualize.animate_2D(values=runner.mon.r.reshape((-1, cann.num)),\n",
    "                        net_size=(cann.length, cann.length))"
   ]
  },
  {
   "cell_type": "markdown",
   "metadata": {
    "collapsed": false
   },
   "source": [
    "![encoding](../images/cann_2d_encoding.gif)"
   ]
  },
  {
   "cell_type": "code",
   "execution_count": 8,
   "id": "7bebdbdc",
   "metadata": {},
   "outputs": [
    {
     "data": {
      "application/vnd.jupyter.widget-view+json": {
       "model_id": "027b9d635d71405ea22dc9c7f26d89b7",
       "version_major": 2,
       "version_minor": 0
      },
      "text/plain": [
       "  0%|          | 0/200 [00:00<?, ?it/s]"
      ]
     },
     "metadata": {},
     "output_type": "display_data"
    }
   ],
   "source": [
    "# tracking\n",
    "length = 20\n",
    "positions = bp.inputs.ramp_input(-bm.pi, bm.pi, duration=length, t_start=0)\n",
    "positions = bm.stack([positions, positions]).T\n",
    "Iext = jax.vmap(cann.get_stimulus_by_pos)(positions)\n",
    "runner = bp.DSRunner(cann,\n",
    "                     inputs=['input', Iext, 'iter'],\n",
    "                     monitors=['r'])\n",
    "runner.run(length)"
   ]
  },
  {
   "cell_type": "code",
   "execution_count": 9,
   "id": "f78729b8",
   "metadata": {},
   "outputs": [],
   "source": [
    "bp.visualize.animate_2D(values=runner.mon.r.reshape((-1, cann.num)),\n",
    "                        net_size=(cann.length, cann.length))"
   ]
  },
  {
   "cell_type": "markdown",
   "id": "20a7c6e2",
   "metadata": {},
   "source": [
    "![tracking](../images/cann_2d_tracking.gif)"
   ]
  }
 ],
 "metadata": {
  "jupytext": {
   "cell_metadata_filter": "-all",
   "formats": "ipynb,auto:percent",
   "notebook_metadata_filter": "-all"
  },
  "kernelspec": {
   "display_name": "brainpy",
   "language": "python",
   "name": "brainpy"
  },
  "language_info": {
   "codemirror_mode": {
    "name": "ipython",
    "version": 3
   },
   "file_extension": ".py",
   "mimetype": "text/x-python",
   "name": "python",
   "nbconvert_exporter": "python",
   "pygments_lexer": "ipython3",
   "version": "3.8.11"
  },
  "latex_envs": {
   "LaTeX_envs_menu_present": true,
   "autoclose": false,
   "autocomplete": true,
   "bibliofile": "biblio.bib",
   "cite_by": "apalike",
   "current_citInitial": 1,
   "eqLabelWithNumbers": true,
   "eqNumInitial": 1,
   "hotkeys": {
    "equation": "Ctrl-E",
    "itemize": "Ctrl-I"
   },
   "labels_anchors": false,
   "latex_user_defs": false,
   "report_style_numbering": false,
   "user_envs_cfg": false
  },
  "toc": {
   "base_numbering": 1,
   "nav_menu": {},
   "number_sections": true,
   "sideBar": true,
   "skip_h1_title": false,
   "title_cell": "Table of Contents",
   "title_sidebar": "Contents",
   "toc_cell": false,
   "toc_position": {},
   "toc_section_display": true,
   "toc_window_display": false
  }
 },
 "nbformat": 4,
 "nbformat_minor": 5
}
